{
 "cells": [
  {
   "cell_type": "markdown",
   "metadata": {},
   "source": [
    "## Geometric and intensity transformations"
   ]
  },
  {
   "cell_type": "code",
   "execution_count": null,
   "metadata": {},
   "outputs": [],
   "source": [
    "import scipy as sc\n",
    "from scipy import misc\n",
    "import numpy as np\n",
    "import matplotlib.pyplot as plt\n",
    "from matplotlib.pyplot import imshow\n",
    "#install skimage: pip install scikit-image\n",
    "import skimage\n",
    "from skimage import transform\n",
    "\n",
    "from scipy import ndimage\n",
    "f = misc.ascent()  # retrieve a grayscale image\n",
    "imshow(f, cmap=plt.cm.gray)"
   ]
  },
  {
   "cell_type": "code",
   "execution_count": null,
   "metadata": {},
   "outputs": [],
   "source": [
    "# Explore intensity variations\n",
    "imshow(f[220:240, 110:130], cmap=plt.cm.gray, interpolation='nearest') "
   ]
  },
  {
   "cell_type": "code",
   "execution_count": null,
   "metadata": {},
   "outputs": [],
   "source": [
    "## Geometric transformations\n",
    "lx, ly = f.shape\n",
    "# Cropping\n",
    "crop_f = f[lx // 4: - lx // 4, ly // 4: - ly // 4]\n",
    "# up <-> down flip\n",
    "flip_ud_f = np.flipud(f)\n",
    "# rotation\n",
    "rotate_f = ndimage.rotate(f, 45)\n",
    "rotate_f_noreshape = ndimage.rotate(f, 45, reshape=False)"
   ]
  },
  {
   "cell_type": "code",
   "execution_count": null,
   "metadata": {},
   "outputs": [],
   "source": [
    "\n",
    "plt.figure(figsize=(12, 3))\n",
    "plt.subplot(151)\n",
    "imshow(f, cmap=plt.cm.gray)\n",
    "plt.axis('off')\n",
    "plt.subplot(152)\n",
    "imshow(crop_f, cmap=plt.cm.gray)\n",
    "plt.axis('off')\n",
    "plt.subplot(153)\n",
    "imshow(flip_ud_f, cmap=plt.cm.gray)\n",
    "plt.axis('off')\n",
    "plt.subplot(154)\n",
    "imshow(rotate_f, cmap=plt.cm.gray)\n",
    "plt.axis('off')\n",
    "plt.subplot(155)\n",
    "imshow(rotate_f_noreshape, cmap=plt.cm.gray)\n",
    "plt.axis('off')\n",
    "plt.subplots_adjust(wspace=0.02, hspace=0.3, top=1, bottom=0.1, left=0,\n",
    "                    right=1)\n",
    "\n",
    "plt.show()"
   ]
  },
  {
   "cell_type": "markdown",
   "metadata": {},
   "source": [
    "### Translation"
   ]
  },
  {
   "cell_type": "code",
   "execution_count": null,
   "metadata": {},
   "outputs": [],
   "source": [
    "# Recall the shape of the transformation matrix\n",
    "#[[a0  a1  a2]\n",
    "# [b0  b1  b2]\n",
    "# [0   0    1]]\n",
    "# Lets translate by dx=3 and dy=10 pixels\n",
    "transl=np.array([[1,0,3],[0,1,10],[0,0,1]])\n",
    "transl=transl.reshape((3,3))\n",
    "imshow(transl, cmap='gray')\n",
    "\n",
    "tf=transform.AffineTransform(matrix=transl, scale=None, rotation=None, shear=None, translation=None)\n",
    "transl=transform.warp(f, tf, order =1, preserve_range=True, mode='constant')\n",
    "imshow(transl, cmap='gray')\n",
    "plt.title(\"Translated image\")"
   ]
  },
  {
   "cell_type": "markdown",
   "metadata": {},
   "source": [
    "### Shear"
   ]
  },
  {
   "cell_type": "code",
   "execution_count": null,
   "metadata": {},
   "outputs": [],
   "source": [
    "# horizontal\n",
    "f=f/255.0 # scale to the pixel intensity range (0,1) \n",
    "shear1=np.array([[1, 0.3 , 0.0],[0, 1, 0],[0,0,1]])\n",
    "tf_h=transform.AffineTransform(matrix=shear1, scale=None, rotation=None, shear=None, translation=None)\n",
    "im1=transform.warp(f, tf_h, order =1, preserve_range=True, mode='constant')\n",
    "# vertical\n",
    "shear2=np.array([[1, 0.0 , 0.0],[0.3, 1, 0],[0,0,1]])\n",
    "tf_v=transform.AffineTransform(matrix=shear2, scale=None, rotation=None, shear=None, translation=None)\n",
    "im2=transform.warp(f, tf_v, order =1, preserve_range=True, mode='constant')\n",
    "\n",
    "plt.figure()\n",
    "imshow(np.hstack([im1,im2]), cmap='gray')"
   ]
  },
  {
   "cell_type": "code",
   "execution_count": null,
   "metadata": {},
   "outputs": [],
   "source": [
    "tf_v"
   ]
  },
  {
   "cell_type": "markdown",
   "metadata": {},
   "source": [
    "### Rescaling"
   ]
  },
  {
   "cell_type": "code",
   "execution_count": null,
   "metadata": {},
   "outputs": [],
   "source": [
    "f_rescaled=transform.rescale(f, 0.5, anti_aliasing=False)"
   ]
  },
  {
   "cell_type": "code",
   "execution_count": null,
   "metadata": {},
   "outputs": [],
   "source": [
    "imshow(f_rescaled, cmap='gray')\n",
    "plt.title(\"Rescaled image by 50%\")"
   ]
  },
  {
   "cell_type": "markdown",
   "metadata": {},
   "source": [
    "### Resizing "
   ]
  },
  {
   "cell_type": "code",
   "execution_count": null,
   "metadata": {},
   "outputs": [],
   "source": [
    "f_resized=transform.resize(f, (int(f.shape[0]/3), f.shape[1]/4), anti_aliasing=True)\n",
    "imshow(f_resized, cmap='gray')"
   ]
  },
  {
   "cell_type": "code",
   "execution_count": null,
   "metadata": {},
   "outputs": [],
   "source": [
    "np.shape(f_resized)"
   ]
  },
  {
   "cell_type": "markdown",
   "metadata": {},
   "source": [
    "### Rotation with transform.rotate "
   ]
  },
  {
   "cell_type": "code",
   "execution_count": null,
   "metadata": {},
   "outputs": [],
   "source": [
    "import math\n",
    "\n",
    "tf=transform.rotate(f, 45, resize=True, mode='constant')\n",
    "im=tf*255\n",
    "imshow(im, cmap='gray')\n"
   ]
  },
  {
   "cell_type": "markdown",
   "metadata": {},
   "source": [
    "### Question 1:\n",
    "#### 1.  Using Python skimage.transform functions considered above, perform a horizontal shear by 0.2 and image rescaling by 50% on 'ascent' image (referred to as f).Display the final result.\n",
    "#### 2. Define a translation matrix for shifting an image by 5 pixels in x-direction and by 10 pixels in y-direction, and apply AffineTransform to translate the image (f=ascent). Display the final result.\n",
    "#### 3. Start with ascent image (f). Perform a consequent series of operations on an image f, rotate  an image by -45 degrees, then rescale the rotated image by 1.2 and crop it to the 50% of its central part.  \n"
   ]
  },
  {
   "cell_type": "code",
   "execution_count": null,
   "metadata": {},
   "outputs": [],
   "source": [
    "# Question 1 Solution\n",
    "\n",
    "# 1. Horizontal shear and rescaling\n",
    "# First apply horizontal shear\n",
    "shear_matrix = np.array([[1, 0.2, 0.0], [0, 1, 0], [0, 0, 1]])\n",
    "tf_shear = transform.AffineTransform(matrix=shear_matrix)\n",
    "sheared_img = transform.warp(f, tf_shear, order=1, preserve_range=True, mode='constant')\n",
    "\n",
    "# Then rescale by 50%\n",
    "final_img = transform.rescale(sheared_img, 0.5, anti_aliasing=True)\n",
    "\n",
    "plt.figure(figsize=(10, 5))\n",
    "plt.imshow(final_img, cmap='gray')\n",
    "plt.title('Sheared and Rescaled Image')\n",
    "plt.show()\n",
    "\n",
    "# 2. Translation\n",
    "trans_matrix = np.array([[1, 0, 5], [0, 1, 10], [0, 0, 1]])\n",
    "tf_trans = transform.AffineTransform(matrix=trans_matrix)\n",
    "translated_img = transform.warp(f, tf_trans, order=1, preserve_range=True, mode='constant')\n",
    "\n",
    "plt.figure(figsize=(10, 5))\n",
    "plt.imshow(translated_img, cmap='gray')\n",
    "plt.title('Translated Image')\n",
    "plt.show()\n",
    "\n",
    "# 3. Series of operations\n",
    "# First rotate by -45 degrees\n",
    "rotated = transform.rotate(f, -45, resize=True)\n",
    "\n",
    "# Rescale by 1.2\n",
    "rescaled = transform.rescale(rotated, 1.2, anti_aliasing=True)\n",
    "\n",
    "# Crop to central 50%\n",
    "h, w = rescaled.shape\n",
    "crop_h = int(h/4)\n",
    "crop_w = int(w/4)\n",
    "cropped = rescaled[crop_h:-crop_h, crop_w:-crop_w]\n",
    "\n",
    "plt.figure(figsize=(10, 5))\n",
    "plt.imshow(cropped, cmap='gray')\n",
    "plt.title('Rotated, Rescaled and Cropped Image')\n",
    "plt.show()\n"
   ]
  },
  {
   "cell_type": "markdown",
   "metadata": {},
   "source": [
    "### Gamma correction and log contrast adjustment"
   ]
  },
  {
   "cell_type": "code",
   "execution_count": null,
   "metadata": {},
   "outputs": [],
   "source": [
    "from skimage import data, img_as_float\n",
    "from skimage import exposure\n",
    "\n",
    "# Load a low-contrast image\n",
    "im = data.moon()\n",
    "im= img_as_float(im)\n",
    "\n",
    "fig=plt.figure(figsize=(9,6))\n",
    "axes=np.zeros((2,3), dtype=np.object)\n",
    "axes[0,0]=plt.subplot(2,3,1)\n",
    "axes[0,1]=plt.subplot(2,3,2)\n",
    "axes[0,2]=plt.subplot(2,3,3)\n",
    "\n",
    "axes[1,0]=plt.subplot(2,3,4)\n",
    "axes[1,1]=plt.subplot(2,3,5)\n",
    "axes[1,2]=plt.subplot(2,3,6)\n",
    "ax_im, ax_hist = axes\n",
    "\n",
    "# Gamma corrected\n",
    "gamma_corrected = exposure.adjust_gamma(im, 2)\n",
    "\n",
    "# logarithmic corrected\n",
    "logarithmic_corrected = exposure.adjust_log(im, 1)\n",
    "\n",
    "#__________________________\n",
    "# Display image\n",
    "ax_im[0].imshow(im, cmap='gray')\n",
    "#Display histogram for original image\n",
    "ax_hist[0].hist(im.ravel(), bins=30, histtype='step', color='b' )\n",
    "ax_hist[0].set_xlabel('Pixel intensity')\n",
    "ax_hist[0].set_ylabel('Number of pixels')\n",
    "\n",
    "ax_im[1].imshow(gamma_corrected, cmap='gray')\n",
    "#Display histogram for gamma-corrected image\n",
    "ax_hist[1].hist(gamma_corrected.ravel(), bins=30, histtype='step', color='b' )\n",
    "ax_hist[1].set_xlabel('Pixel intensity')\n",
    "\n",
    "ax_im[2].imshow(logarithmic_corrected, cmap='gray')\n",
    "#Display histogram for gamma-corrected image\n",
    "ax_hist[2].hist(logarithmic_corrected.ravel(), bins=30, histtype='step', color='b' )\n",
    "ax_hist[2].set_xlabel('Pixel intensity')\n"
   ]
  },
  {
   "cell_type": "markdown",
   "metadata": {},
   "source": [
    "### Question 2: \n",
    "1. Describe the effect of Gamma-correction on the distribution of pixel intensities.\n",
    "2. How does logarithmic transformation improve the quality of an image?\n",
    "3. Perform Gamma-transformation of the moon image with the value of  $\\gamma$ < 1. What effect do you observe on pixel intensities of the original image? How is you result compared against Gamma-corrected pixel intensities obtained with $\\gamma$=2?\n"
   ]
  },
  {
   "cell_type": "markdown",
   "metadata": {},
   "source": []
  },
  {
   "cell_type": "code",
   "execution_count": null,
   "metadata": {},
   "outputs": [],
   "source": [
    "# Question 2 Solution\n",
    "\n",
    "# 3. Gamma transformation with gamma < 1\n",
    "gamma_less_than_1 = exposure.adjust_gamma(im, 0.5)\n",
    "\n",
    "fig, (ax1, ax2, ax3) = plt.subplots(1, 3, figsize=(15, 5))\n",
    "\n",
    "# Original image\n",
    "ax1.imshow(im, cmap='gray')\n",
    "ax1.set_title('Original Image')\n",
    "\n",
    "# Gamma = 2 (from previous example)\n",
    "ax2.imshow(gamma_corrected, cmap='gray')\n",
    "ax2.set_title('Gamma = 2')\n",
    "\n",
    "# Gamma = 0.5\n",
    "ax3.imshow(gamma_less_than_1, cmap='gray')\n",
    "ax3.set_title('Gamma = 0.5')\n",
    "plt.show()\n",
    "\n",
    "# Display histograms\n",
    "fig, (ax1, ax2, ax3) = plt.subplots(1, 3, figsize=(15, 5))\n",
    "\n",
    "ax1.hist(im.ravel(), bins=30, histtype='step', color='b')\n",
    "ax1.set_title('Original Histogram')\n",
    "\n",
    "ax2.hist(gamma_corrected.ravel(), bins=30, histtype='step', color='b')\n",
    "ax2.set_title('Gamma = 2 Histogram')\n",
    "\n",
    "ax3.hist(gamma_less_than_1.ravel(), bins=30, histtype='step', color='b')\n",
    "ax3.set_title('Gamma = 0.5 Histogram')\n",
    "plt.show()\n",
    "\n",
    "'''\n",
    "Answers to Questions:\n",
    "\n",
    "1. Effect of Gamma-correction (γ=2) on pixel intensities:\n",
    "   - Gamma correction with γ>1 darkens the image\n",
    "   - It compresses the range of higher intensity values\n",
    "   - Expands the range of lower intensity values\n",
    "   - Results in better contrast in darker regions\n",
    "\n",
    "2. Logarithmic transformation effects:\n",
    "   - Compresses the dynamic range of high intensity values\n",
    "   - Expands the range of lower intensity values\n",
    "   - Useful for enhancing details in darker regions\n",
    "   - Particularly effective for images with large variations in intensity\n",
    "\n",
    "3. Effects of γ<1 (0.5):\n",
    "   - Brightens the image overall\n",
    "   - Expands the range of higher intensity values\n",
    "   - Compresses the range of lower intensity values\n",
    "   - Compared to γ=2:\n",
    "     * Shows opposite effect (brightening vs darkening)\n",
    "     * Enhances details in brighter regions instead of darker ones\n",
    "     * Histogram shifts towards higher intensity values\n",
    "'''\n"
   ]
  }
 ],
 "metadata": {
  "kernelspec": {
   "display_name": "Python 3 (ipykernel)",
   "language": "python",
   "name": "python3"
  },
  "language_info": {
   "codemirror_mode": {
    "name": "ipython",
    "version": 3
   },
   "file_extension": ".py",
   "mimetype": "text/x-python",
   "name": "python",
   "nbconvert_exporter": "python",
   "pygments_lexer": "ipython3",
   "version": "3.9.7"
  }
 },
 "nbformat": 4,
 "nbformat_minor": 4
}
