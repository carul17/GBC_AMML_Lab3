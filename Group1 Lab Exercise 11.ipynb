{
 "cells": [
  {
   "cell_type": "code",
   "execution_count": null,
   "metadata": {},
   "outputs": [],
   "source": [
    "#Bikash Giri (101575097) \n",
    "#Chia-Wei Chang (101570243) \n",
    "#Diparshan Bhattarai (101494737) \n",
    "#Hsi-Teng Liu (101576074) \n",
    "#Gavriel Kirichenko (101119609) \n",
    "#Abdul-Rasaq Omisesan (101571156) \n",
    "#Callum Arul (101585383) \n",
    "#Friba Hussainyar (101591222) \n",
    "#Vivek Panchal (101484976) "
   ]
  },
  {
   "cell_type": "markdown",
   "metadata": {},
   "source": [
    "###  2D Discrete Fourier Transform  of an image function and its inverse "
   ]
  },
  {
   "cell_type": "code",
   "execution_count": 44,
   "metadata": {},
   "outputs": [],
   "source": [
    "from __future__ import division\n",
    "import numpy as np\n",
    "import matplotlib.pyplot as plt\n",
    "from matplotlib.pyplot import imshow\n",
    "from PIL import Image\n",
    "from numpy.fft import fft2, fftshift, ifft2\n",
    "import cv2 # if you do not have cv2 installed, run from the command line \"pip install opencv-python\" \n",
    "%matplotlib inline \n",
    "#show plots in the notebook"
   ]
  },
  {
   "cell_type": "code",
   "execution_count": null,
   "metadata": {},
   "outputs": [],
   "source": [
    "im = Image.open(\"fantasy.jpg\")\n",
    "np.shape(im) # -- We can see that this is RGB image"
   ]
  },
  {
   "cell_type": "code",
   "execution_count": 47,
   "metadata": {},
   "outputs": [],
   "source": [
    "new_im=cv2.imread(\"fantasy.jpg\",0) # convert to greyscale\n",
    "new_im=cv2.resize(new_im, (512,512))# first width, second height\n",
    "\n",
    "# alternative solution using PIL library\n",
    "#new_img=im.resize((512,512))\n",
    "#x=new_img.convert(\"L\") # greyscale image\n",
    "#y=np.asarray(x.getdata(),dtype=np.float64).reshape((x.size[1],x.size[0])) # convert to an array\n",
    "#x.show()"
   ]
  },
  {
   "cell_type": "code",
   "execution_count": 49,
   "metadata": {},
   "outputs": [],
   "source": [
    "#imshow(new_im, cmap='Greys')"
   ]
  },
  {
   "cell_type": "code",
   "execution_count": 52,
   "metadata": {},
   "outputs": [],
   "source": [
    "# apply fft2 that refers to 2D fft. fft2() provides us the frequency transform which will be a complex array. It first argument is a greyscale image.\n",
    "f=np.fft.fft2(new_im)\n",
    "# next, we apply ffshift() that essentially performs multiplication operation f(x,y)(-1)^(x+y) and then takes the FT of this product.\n",
    "# we want to place the zero frequency component in the center. Otherwise, it will be at the top left corner. We shift the result in both directions.\n",
    "fshift=np.fft.fftshift(f)"
   ]
  },
  {
   "cell_type": "code",
   "execution_count": null,
   "metadata": {},
   "outputs": [],
   "source": [
    "# we have found DFT\n",
    "fshift"
   ]
  },
  {
   "cell_type": "code",
   "execution_count": 56,
   "metadata": {},
   "outputs": [],
   "source": [
    "# calculate the magnitude of DFT and log scale for the purpose of visualization\n",
    "magnitude_spectrum=20*np.log(np.abs(fshift))"
   ]
  },
  {
   "cell_type": "code",
   "execution_count": null,
   "metadata": {},
   "outputs": [],
   "source": [
    "plt.subplot(121), plt.imshow(new_im, cmap='gray')\n",
    "plt.title('Input image'), plt.xticks([]),plt.yticks([])\n",
    "plt.subplot(122), plt.imshow(magnitude_spectrum, cmap='gray')\n",
    "plt.title('Magnitude'), plt.xticks([]),plt.yticks([])\n",
    "plt.show()"
   ]
  },
  {
   "cell_type": "code",
   "execution_count": null,
   "metadata": {},
   "outputs": [],
   "source": [
    "# We do not have a lot of low frequency content in this image.\n",
    "# What happens if we undo shift operation?\n",
    "f = np.fft.fft2(new_im)\n",
    "fshift = np.fft.fftshift(f)\n",
    "fshift=np.fft.ifftshift(fshift)\n",
    "magnitude_spectrum=20*np.log(np.abs(fshift))\n",
    "plt.subplot(121), plt.imshow(new_im, cmap='gray')\n",
    "plt.title('Input image'), plt.xticks([]),plt.yticks([])\n",
    "plt.subplot(122), plt.imshow(magnitude_spectrum, cmap='gray')\n",
    "plt.title('Magnitude'), plt.xticks([]),plt.yticks([])\n",
    "plt.show()"
   ]
  },
  {
   "cell_type": "code",
   "execution_count": null,
   "metadata": {},
   "outputs": [],
   "source": [
    "# We can hardly see the DC component.\n",
    "# Having found the FT of an image, we can do some operations in frequency domain, \n",
    "# like highpass filtering or low pass filtering. WE can then reconstruct the image using inverse FFT.\n",
    "f = np.fft.fft2(new_im)\n",
    "\n",
    "# shift the center\n",
    "fshift = np.fft.fftshift(f)\n",
    "\n",
    "rows, cols = new_im.shape\n",
    "row_c,col_c = int(rows/2) , int(cols/2)\n",
    "\n",
    "# remove the low frequencies by masking with a rectangular window of size 60x60\n",
    "# High Pass Filter (HPF)\n",
    "\n",
    "fshift[row_c-10:row_c+10, col_c-10:col_c+10] = 0\n",
    "\n",
    "# We want to remove the low frequencies by masking with a rectangular window of size 20x20. Below is our solution: \n",
    "# 1. Apply the inverse shift using ifftshift() so that DC component again come at the top-left corner.\n",
    "# 2. Find inverse FFT using ifft2() function. What would be the result of iFFT? \n",
    "# 3. Take its absolute value.\n",
    "\n",
    "# shift back (we shifted the center before)\n",
    "f_ishift = np.fft.ifftshift(fshift)\n",
    "\n",
    "# inverse fft to get the image back \n",
    "img_back = ifft2(f_ishift)\n",
    "# take real part of the inverse FT\n",
    "img_back = img_back.real\n",
    "\n",
    "plt.subplot(121),plt.imshow(new_im, cmap = 'gray')\n",
    "plt.title('Input Image'), plt.xticks([]), plt.yticks([])\n",
    "plt.subplot(122),plt.imshow(img_back, cmap = 'gray')\n",
    "plt.title('Image after HPF'), plt.xticks([]), plt.yticks([])\n",
    "plt.show()"
   ]
  },
  {
   "cell_type": "code",
   "execution_count": null,
   "metadata": {},
   "outputs": [],
   "source": [
    "# We can see how High Pass filter can detect edges. However, we do lose information over the entire image. \n",
    "# And for this example we would rather not apply a High Pass filter. "
   ]
  },
  {
   "cell_type": "markdown",
   "metadata": {},
   "source": [
    "### Question 1: Rerun the above procedure without the application of the High Pass filter. Does the inverse FT reconstruct the image close to the original?"
   ]
  },
  {
   "cell_type": "code",
   "execution_count": 72,
   "metadata": {},
   "outputs": [],
   "source": [
    "# paste the above cell here and make modifications to your code. \n",
    "\n",
    "#Yes, if you skip the high-pass filtering operation and only apply the inverse Fourier Transform (iFFT) on the unaltered frequency components, \n",
    "#the reconstructed image will be nearly identical to the original. This is because the Fourier Transform is a reversible operation, \n",
    "#and as long as no changes are made to the frequency domain representation, the inverse FT will fully restore the original image."
   ]
  },
  {
   "cell_type": "code",
   "execution_count": null,
   "metadata": {},
   "outputs": [],
   "source": [
    "# We can hardly see the DC component.\n",
    "# Having found the FT of an image, we can do some operations in frequency domain, \n",
    "# like highpass filtering or low pass filtering. WE can then reconstruct the image using inverse FFT.\n",
    "f = np.fft.fft2(new_im)\n",
    "\n",
    "# shift the center\n",
    "fshift = np.fft.fftshift(f)\n",
    "\n",
    "rows, cols = new_im.shape\n",
    "row_c,col_c = int(rows/2) , int(cols/2)\n",
    "\n",
    "# We want to remove the low frequencies by masking with a rectangular window of size 20x20. Below is our solution: \n",
    "# 1. Apply the inverse shift using ifftshift() so that DC component again come at the top-left corner.\n",
    "# 2. Find inverse FFT using ifft2() function. What would be the result of iFFT? \n",
    "# 3. Take its absolute value.\n",
    "\n",
    "# shift back (we shifted the center before)\n",
    "f_ishift = np.fft.ifftshift(fshift)\n",
    "\n",
    "# inverse fft to get the image back \n",
    "img_back = ifft2(f_ishift)\n",
    "# take real part of the inverse FT\n",
    "img_back = img_back.real\n",
    "\n",
    "plt.subplot(121),plt.imshow(new_im, cmap = 'gray')\n",
    "plt.title('Input Image'), plt.xticks([]), plt.yticks([])\n",
    "plt.subplot(122),plt.imshow(img_back, cmap = 'gray')\n",
    "plt.title('Image after HPF'), plt.xticks([]), plt.yticks([])\n",
    "plt.show()"
   ]
  },
  {
   "cell_type": "markdown",
   "metadata": {},
   "source": [
    "### Question 2: Uncomment lines of code given below and continue to code in order to find the FT of \"leaf.jpg\" image and its Inverse.\n"
   ]
  },
  {
   "cell_type": "code",
   "execution_count": 78,
   "metadata": {},
   "outputs": [],
   "source": [
    "im = Image.open(\"leaf.jpg\")\n",
    "np.shape(im) # -- We can see that this is RGB image\n",
    "new_im=cv2.imread(\"leaf.jpg\",0)\n",
    "new_im=cv2.resize(new_im,(int(0.6*512),512)) # first is the width, second is height\n"
   ]
  },
  {
   "cell_type": "code",
   "execution_count": null,
   "metadata": {},
   "outputs": [],
   "source": [
    "# Apply Fourier Transform\n",
    "f = np.fft.fft2(new_im)\n",
    "fshift = np.fft.fftshift(f)  # Center the zero-frequency component\n",
    "\n",
    "# Apply inverse FT to reconstruct the image\n",
    "f_ishift = np.fft.ifftshift(fshift)  # Undo the shift\n",
    "img_back = np.fft.ifft2(f_ishift)  # Inverse FFT\n",
    "img_back = np.abs(img_back)  # Take absolute value\n",
    "\n",
    "# Display results\n",
    "plt.subplot(131), plt.imshow(new_im, cmap='gray')\n",
    "plt.title(\"Original Image\"), plt.xticks([]), plt.yticks([])\n",
    "\n",
    "plt.subplot(132), plt.imshow(magnitude_spectrum, cmap='gray')\n",
    "plt.title(\"Magnitude Spectrum\"), plt.xticks([]), plt.yticks([])\n",
    "\n",
    "plt.show()\n"
   ]
  },
  {
   "cell_type": "markdown",
   "metadata": {},
   "source": [
    "### Question 3: Display the magnitude of the FT of the leaf image. Does it show any prominent components along some directions? Do you think we can associate frequencies in the FT with patterns of intensity variation in an image? "
   ]
  },
  {
   "cell_type": "markdown",
   "metadata": {},
   "source": [
    "# copy and paste a piece of code for visualization and state your observations on the relationship between the frequency components\n",
    "# of the Fourier transform and image spatial characteristics. \n",
    "\n",
    "# Apply Fourier Transform\n",
    "f = np.fft.fft2(new_im)\n",
    "fshift = np.fft.fftshift(f)  # Center the zero-frequency component\n",
    "\n",
    "# Magnitude spectrum visualization\n",
    "magnitude_spectrum = 1000 * np.log(np.abs(fshift))\n",
    "\n",
    "# Apply inverse FT to reconstruct the image\n",
    "f_ishift = np.fft.ifftshift(fshift)  # Undo the shift\n",
    "img_back = np.fft.ifft2(f_ishift)  # Inverse FFT\n",
    "img_back = np.abs(img_back)  # Take absolute value\n",
    "\n",
    "# Display results\n",
    "plt.subplot(131), plt.imshow(new_im, cmap='gray')\n",
    "plt.title(\"Original Image\"), plt.xticks([]), plt.yticks([])\n",
    "\n",
    "plt.subplot(132), plt.imshow(magnitude_spectrum, cmap='gray')\n",
    "plt.title(\"Magnitude Spectrum\"), plt.xticks([]), plt.yticks([])\n",
    "\n",
    "plt.subplot(133), plt.imshow(img_back, cmap='gray')\n",
    "plt.title(\"Reconstructed Image\"), plt.xticks([]), plt.yticks([])\n",
    "\n",
    "plt.show()\n"
   ]
  },
  {
   "cell_type": "markdown",
   "metadata": {},
   "source": [
    "Yes, Relationship Between Frequency Components and Image Patterns\n",
    "- Frequencies in the Fourier domain can be directly linked to specific spatial characteristics in the image. Bright spots in the frequency spectrum usually mean there is a strong repetitive or directional pattern in the original image at a particular spatial frequency (or orientation)."
   ]
  },
  {
   "cell_type": "code",
   "execution_count": null,
   "metadata": {},
   "outputs": [],
   "source": []
  }
 ],
 "metadata": {
  "kernelspec": {
   "display_name": "Python [conda env:base] *",
   "language": "python",
   "name": "conda-base-py"
  },
  "language_info": {
   "codemirror_mode": {
    "name": "ipython",
    "version": 3
   },
   "file_extension": ".py",
   "mimetype": "text/x-python",
   "name": "python",
   "nbconvert_exporter": "python",
   "pygments_lexer": "ipython3",
   "version": "3.12.7"
  }
 },
 "nbformat": 4,
 "nbformat_minor": 4
}
