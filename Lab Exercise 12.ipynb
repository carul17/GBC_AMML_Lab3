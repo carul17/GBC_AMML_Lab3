{
 "cells": [
  {
   "cell_type": "markdown",
   "metadata": {},
   "source": [
    "### Gaussian High-pass and Low-pass filters in frequency domain\n",
    "\n"
   ]
  },
  {
   "cell_type": "code",
   "execution_count": 1,
   "metadata": {},
   "outputs": [],
   "source": [
    "import matplotlib.pyplot as plt\n",
    "import numpy as np\n",
    "from scipy import ndimage\n",
    "from scipy import signal\n",
    "from matplotlib.pyplot import imshow\n",
    "from PIL import Image\n",
    "import cv2\n",
    "from scipy import signal\n",
    "from scipy.fftpack import fft2, fftshift, ifftshift, ifft2\n"
   ]
  },
  {
   "cell_type": "code",
   "execution_count": 2,
   "metadata": {},
   "outputs": [],
   "source": [
    "new_im=cv2.imread(\"fantasy.jpg\",0) # convert to greyscale\n",
    "new_im=cv2.resize(new_im, (512,512))# first width, second height"
   ]
  },
  {
   "cell_type": "code",
   "execution_count": null,
   "metadata": {},
   "outputs": [],
   "source": [
    "imshow(new_im, cmap='gray')\n",
    "#new_im\n"
   ]
  },
  {
   "cell_type": "markdown",
   "metadata": {},
   "source": [
    "### The Gaussian window is defined by $ w(n)=\\exp^{\\frac{-1}{2}{\\frac{n}{\\sigma}}^2}$ where $n$ is the number of pixels in the output window"
   ]
  },
  {
   "cell_type": "code",
   "execution_count": 4,
   "metadata": {},
   "outputs": [],
   "source": [
    "# create a 2D-gaussian kernel、filter with the same size of the image\n",
    "kernel = np.outer(signal.gaussian(new_im.shape[0], 5), signal.gaussian(new_im.shape[1], 5))# outer product of two vectors,\n",
    "#each representing a 1D Gaussian window of size of 5 points\n",
    "\n",
    "# find Fourier transform of the image f(x,y)\n",
    "freq = fft2(new_im)\n",
    "# generate a kernel whose origin is in the top-left corner\n",
    "kern=ifftshift(kernel) # h(x,y)\n",
    "# calculate FFT of the kernel\n",
    "freq_kernel = fft2(kern)\n",
    "# multiply in the frequency domain\n",
    "product = freq*freq_kernel\n",
    "# compute the final result\n",
    "# take the inverse transform of the product and display the real part\n",
    "im_out = ifft2(product).real # output blurred image"
   ]
  },
  {
   "cell_type": "code",
   "execution_count": null,
   "metadata": {},
   "outputs": [],
   "source": [
    "# scale image to original grey-level intensities in the range from 0 to 255\n",
    "from sklearn.preprocessing import MinMaxScaler\n",
    "scaler = MinMaxScaler(feature_range=(0, 255))\n",
    "scaler = scaler.fit(im_out)\n",
    "im_out= scaler.transform(im_out)\n",
    "im_out\n"
   ]
  },
  {
   "cell_type": "code",
   "execution_count": null,
   "metadata": {},
   "outputs": [],
   "source": [
    "imshow(im_out, cmap='gray')\n"
   ]
  },
  {
   "cell_type": "markdown",
   "metadata": {},
   "source": [
    "# Question 1: Is this a high-pass or a low-pass Gaussian filter? By modifying slightly the code above, create a 3-pixel Gaussian kernel and output the resulting image. What do you observe when you narrow the size of the Gaussian wiindow?\n",
    "\n"
   ]
  },
  {
   "cell_type": "code",
   "execution_count": 7,
   "metadata": {},
   "outputs": [],
   "source": [
    "# type your answer here (that includes code)"
   ]
  },
  {
   "cell_type": "code",
   "execution_count": 8,
   "metadata": {},
   "outputs": [],
   "source": [
    "# high-pass Gaussian filtered image is found by subtracting low-pass filtered image from the original one"
   ]
  },
  {
   "cell_type": "markdown",
   "metadata": {},
   "source": [
    "### Question 2: What would a high-pass Gaussian filter be useful for in the context of image processing?  "
   ]
  },
  {
   "cell_type": "code",
   "execution_count": null,
   "metadata": {},
   "outputs": [],
   "source": []
  }
 ],
 "metadata": {
  "kernelspec": {
   "display_name": "Python 3 (ipykernel)",
   "language": "python",
   "name": "python3"
  },
  "language_info": {
   "codemirror_mode": {
    "name": "ipython",
    "version": 3
   },
   "file_extension": ".py",
   "mimetype": "text/x-python",
   "name": "python",
   "nbconvert_exporter": "python",
   "pygments_lexer": "ipython3",
   "version": "3.9.7"
  }
 },
 "nbformat": 4,
 "nbformat_minor": 4
}
